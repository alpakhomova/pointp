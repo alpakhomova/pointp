{
 "cells": [
  {
   "cell_type": "markdown",
   "metadata": {},
   "source": [
    "# Проект: вариант 2 \n",
    "## Задание 1. A/B–тестирование\n",
    "### 1.1 Условие\n",
    "\n",
    "Одной из основных задач аналитика в нашей команде является корректное проведение экспериментов. Для этого мы применяем метод A/B–тестирования. В ходе тестирования одной гипотезы целевой группе была предложена новая механика оплаты услуг на сайте, у контрольной группы оставалась базовая механика. В качестве задания вам необходимо проанализировать итоги эксперимента и сделать вывод, стоит ли запускать новую механику оплаты на всех пользователей."
   ]
  },
  {
   "cell_type": "markdown",
   "metadata": {},
   "source": [
    "### 1.2 Входные данные\n",
    "\n",
    "- groups.csv – файл с информацией о принадлежности пользователя к контрольной или экспериментальной группе (А – контроль, B – целевая группа) \n",
    "- groups_add.csv – дополнительный файл с пользователями, который вам прислали спустя 2 дня после передачи данных\n",
    "- active_studs.csv – файл с информацией о пользователях, которые зашли на платформу в дни проведения эксперимента. \n",
    "- checks.csv – файл с информацией об оплатах пользователей в дни проведения эксперимента. "
   ]
  },
  {
   "cell_type": "markdown",
   "metadata": {},
   "source": [
    "Загружаем необходимые библиотеки:"
   ]
  },
  {
   "cell_type": "code",
   "execution_count": null,
   "metadata": {},
   "outputs": [],
   "source": [
    "import numpy as np\n",
    "import pandas as pd\n",
    "import scipy.stats as ss\n",
    "import plotly.express as px\n",
    "from statsmodels.stats.proportion import proportions_ztest\n",
    "import seaborn as sns\n",
    "import matplotlib.pyplot as plt"
   ]
  },
  {
   "cell_type": "markdown",
   "metadata": {},
   "source": [
    "Загружаем входные данные и проверяем на пустые значения:"
   ]
  },
  {
   "cell_type": "code",
   "execution_count": null,
   "metadata": {},
   "outputs": [],
   "source": [
    "groups = pd.read_csv('Проект_2_groups.csv', sep = ';')"
   ]
  },
  {
   "cell_type": "code",
   "execution_count": null,
   "metadata": {},
   "outputs": [],
   "source": [
    "groups.head()"
   ]
  },
  {
   "cell_type": "code",
   "execution_count": null,
   "metadata": {},
   "outputs": [],
   "source": [
    "groups.info()"
   ]
  },
  {
   "cell_type": "code",
   "execution_count": null,
   "metadata": {},
   "outputs": [],
   "source": [
    "groups_add = pd.read_csv('Проект_2_group_add.csv')"
   ]
  },
  {
   "cell_type": "code",
   "execution_count": null,
   "metadata": {},
   "outputs": [],
   "source": [
    "groups_add.head()"
   ]
  },
  {
   "cell_type": "code",
   "execution_count": null,
   "metadata": {},
   "outputs": [],
   "source": [
    "groups_add.info()"
   ]
  },
  {
   "cell_type": "code",
   "execution_count": null,
   "metadata": {},
   "outputs": [],
   "source": [
    "active_studs = pd.read_csv('Проект_2_active_studs.csv')"
   ]
  },
  {
   "cell_type": "code",
   "execution_count": null,
   "metadata": {},
   "outputs": [],
   "source": [
    "active_studs.head()"
   ]
  },
  {
   "cell_type": "code",
   "execution_count": null,
   "metadata": {},
   "outputs": [],
   "source": [
    "active_studs.info()"
   ]
  },
  {
   "cell_type": "code",
   "execution_count": null,
   "metadata": {},
   "outputs": [],
   "source": [
    "checks = pd.read_csv('Проект_2_checks.csv', sep = ';')"
   ]
  },
  {
   "cell_type": "code",
   "execution_count": null,
   "metadata": {},
   "outputs": [],
   "source": [
    "checks.head()"
   ]
  },
  {
   "cell_type": "code",
   "execution_count": null,
   "metadata": {},
   "outputs": [],
   "source": [
    "checks.info()"
   ]
  },
  {
   "cell_type": "markdown",
   "metadata": {},
   "source": [
    "Объединяем два датафрейма, показывающих одну информацию:"
   ]
  },
  {
   "cell_type": "code",
   "execution_count": null,
   "metadata": {},
   "outputs": [],
   "source": [
    "groups_all = pd.concat([groups, groups_add], axis=0)"
   ]
  },
  {
   "cell_type": "code",
   "execution_count": null,
   "metadata": {},
   "outputs": [],
   "source": [
    "groups_all.info()"
   ]
  },
  {
   "cell_type": "code",
   "execution_count": null,
   "metadata": {},
   "outputs": [],
   "source": [
    "groups_all.head()"
   ]
  },
  {
   "cell_type": "code",
   "execution_count": null,
   "metadata": {},
   "outputs": [],
   "source": [
    "## проверяем не повторяются ли клиенты в целом\n",
    "groups_all.id.nunique()"
   ]
  },
  {
   "cell_type": "markdown",
   "metadata": {},
   "source": [
    "Количество уникальных id совпадает с количеством строк в датафрейме, дублей нет"
   ]
  },
  {
   "cell_type": "markdown",
   "metadata": {},
   "source": [
    "Будем считать метрики по активным пользователям, так как новая механика оплаты не могла повлиять на не активных пользователей. Но перед этим надо убедиться, что распределение активных пользователей по двум группам однородны. \n",
    "Для этого создаем датафрейм с инфорацием об активности пользователей и к какой группе они принадлежат:"
   ]
  },
  {
   "cell_type": "code",
   "execution_count": null,
   "metadata": {},
   "outputs": [],
   "source": [
    "users = pd.merge(groups_all, active_studs, left_on='id', right_on='student_id', how='left')\n",
    "users.info()"
   ]
  },
  {
   "cell_type": "code",
   "execution_count": null,
   "metadata": {},
   "outputs": [],
   "source": [
    "users.head()"
   ]
  },
  {
   "cell_type": "code",
   "execution_count": null,
   "metadata": {},
   "outputs": [],
   "source": [
    "users = users.fillna(0) ## заполняем NaN'ы\n",
    "users['active'] = users.student_id.apply(lambda x: 1 if x != 0 else 0) ## где 0 - не активные пользователи, 1 - активные\n",
    "users = users.drop('student_id', axis=1) ## убираем далее не нужную колонку\n",
    "users.head()"
   ]
  },
  {
   "cell_type": "markdown",
   "metadata": {},
   "source": [
    "Далее выполняем тест Колмогорова-Смирнова:"
   ]
  },
  {
   "cell_type": "markdown",
   "metadata": {},
   "source": [
    "- $H_0$: выборки имеют одинаковые распределения, т.е. они однородны\n",
    "- $H_1$: у выборок разные распределения, т.е. они не однородны"
   ]
  },
  {
   "cell_type": "code",
   "execution_count": null,
   "metadata": {},
   "outputs": [],
   "source": [
    "## создаем отдельный датафрейм для выборки контрольной группы, который будем использовать в тесте\n",
    "group_a = users.loc[users.grp == 'A'].active \n",
    "group_a.head()"
   ]
  },
  {
   "cell_type": "code",
   "execution_count": null,
   "metadata": {},
   "outputs": [],
   "source": [
    "## создаем отдельный датафрейм для выборки целевой группы, который будем использовать в тесте\n",
    "group_b = users.loc[users.grp == 'B'].active \n",
    "group_b.head()"
   ]
  },
  {
   "cell_type": "code",
   "execution_count": null,
   "metadata": {},
   "outputs": [],
   "source": [
    "ks_stat, ks_p_value = ss.ks_2samp(group_a, group_b)\n",
    "\n",
    "print(f'KS-статистика: {ks_stat}, p-значение: {ks_p_value}')\n",
    "\n",
    "if ks_p_value < 0.05:\n",
    "    print(\"Отвергаем нулевую гипотезу: выборки имеют разные распределения.\")\n",
    "else:\n",
    "    print(\"Не можем отвергнуть нулевую гипотезу: выборки имеют одинаковые распределения.\")\n"
   ]
  },
  {
   "cell_type": "markdown",
   "metadata": {},
   "source": [
    "Проверим гипотезы на следующие три метрики: ARPAU средняя выручка на активных пользоваталей, ARPPAU средняя выручка на платящих активных пользоваталей, CR_A конверсия в оплату среди активных пользователей. Из-за того, что мы делаем множественные сравнения сделаем поправку Бонферрони альфа = 0.05/3"
   ]
  },
  {
   "cell_type": "code",
   "execution_count": null,
   "metadata": {},
   "outputs": [],
   "source": [
    "alpha = 0.05/3"
   ]
  },
  {
   "cell_type": "markdown",
   "metadata": {},
   "source": [
    "Для бизнеса важен доход. Сравним среди двух групп нашу целевую метрику ARPAU (average revenue per active user) — средняя выручка на активного пользователя."
   ]
  },
  {
   "cell_type": "code",
   "execution_count": null,
   "metadata": {},
   "outputs": [],
   "source": [
    "## для этого создадим датафрейм с данными по чекам активных пользователей:\n",
    "active_users = pd.merge(active_studs, checks, on='student_id', how='left')\n",
    "active_users = active_users.fillna(0)\n",
    "active_users['buy'] = active_users.rev.apply(lambda x: 1 if x != 0 else 0) ## где 1 - покупка совершена, 0 - покупки не было\n",
    "active_users = pd.merge(active_users, groups_all, left_on='student_id', right_on='id', how='left')\n",
    "active_users = active_users.drop('id', axis=1)\n",
    "active_users.head()"
   ]
  },
  {
   "cell_type": "markdown",
   "metadata": {},
   "source": [
    "Cравним среднюю выручку активных пользователей двух групп:"
   ]
  },
  {
   "cell_type": "code",
   "execution_count": null,
   "metadata": {},
   "outputs": [],
   "source": [
    "a_rev = active_users.loc[active_users.grp == 'A'].rev\n",
    "\n",
    "print(f'Средняя выручка целевой группы: {a_rev.describe()[1]:.2f}')"
   ]
  },
  {
   "cell_type": "code",
   "execution_count": null,
   "metadata": {},
   "outputs": [],
   "source": [
    "b_rev = active_users.loc[active_users.grp == 'B'].rev\n",
    "\n",
    "print(f'Средняя выручка целевой группы: {b_rev.describe()[1]:.2f}')"
   ]
  },
  {
   "cell_type": "markdown",
   "metadata": {},
   "source": [
    "Сравнение значений просто глазами не дает нам никакой уверенности в правильности выводов, поэтому мы пока что совсем не будем делать выводов, хоть сейчас и кажется, что средняя выручка у целевой группы (В) выше, чем у контрольной (А). Проверим статистическую значимость полученных различий"
   ]
  },
  {
   "cell_type": "markdown",
   "metadata": {},
   "source": [
    "Нужно проверить, есть ли статистически значимые различия между средними двух групп  → нужен Т-тест\n",
    "\n",
    "- $H_0$: у средних значений групп нет статистически значимых различий\n",
    "- $H_1$: средние значения групп статистически значимо различны"
   ]
  },
  {
   "cell_type": "code",
   "execution_count": null,
   "metadata": {},
   "outputs": [],
   "source": [
    "t_stat, t_p_value = ss.ttest_ind(a_rev, b_rev)\n",
    "\n",
    "print(f\"T-статистика: {t_stat:.4f}\")\n",
    "print(f\"P-значение: {t_p_value:.4f}\")\n",
    "\n",
    "if t_p_value < alpha:\n",
    "    print(\"Отвергаем нулевую гипотезу: средние значения групп статистически значимо различны.\")\n",
    "else:\n",
    "    print(\"Не можем отвергнуть нулевую гипотезу: у средних значений групп нет статистически значимых различий.\")"
   ]
  },
  {
   "cell_type": "markdown",
   "metadata": {},
   "source": [
    "Различия средней выручки активных пользователей у двух групп оказались статистически не значимы.\n",
    "Нам по условию задачи неизвестно на что именно нацелена новая механика оплаты услуг (увелечение выручки с уже имеющихся пользователей или привлечение новых пользователей). Поэтому далее смотрим на прокси метрики - средняя выручка на платящего активного пользователя, конверсию активного пользователя в оплату (ARPAU = ARPPAU * CR_a в оплату). Эти метрики более чувствительны к изменениям и хорошо интерпретируемы."
   ]
  },
  {
   "cell_type": "markdown",
   "metadata": {},
   "source": [
    "- $H_0$: у средних значений групп среди платящих пользователей нет статистически значимых различий\n",
    "- $H_1$: средние значения групп среди платящих пользователей статистически значимо различны"
   ]
  },
  {
   "cell_type": "code",
   "execution_count": null,
   "metadata": {},
   "outputs": [],
   "source": [
    "a_arppu = active_users.loc[active_users.grp == 'A'].loc[active_users.rev != 0.0].rev\n",
    "\n",
    "print(f'Средняя выручка контрольной группы среди платящих пользователей: {a_arppu.describe()[1]:.2f}')"
   ]
  },
  {
   "cell_type": "code",
   "execution_count": null,
   "metadata": {},
   "outputs": [],
   "source": [
    "b_arppu = active_users.loc[active_users.grp == 'B'].loc[active_users.rev != 0.0].rev\n",
    "\n",
    "print(f'Средняя выручка целевой группы среди платящих пользователей: {b_arppu.describe()[1]:.2f}')"
   ]
  },
  {
   "cell_type": "code",
   "execution_count": null,
   "metadata": {},
   "outputs": [],
   "source": [
    "t_stat_p, t_p_value_p = ss.ttest_ind(a_arppu, b_arppu)\n",
    "\n",
    "print(f\"T-статистика: {t_stat_p:.4f}\")\n",
    "print(f\"P-значение: {t_p_value_p:.4f}\")\n",
    "\n",
    "if t_p_value_p < alpha:\n",
    "    print(\"Отвергаем нулевую гипотезу: средние значения групп среди платящих пользователей статистически значимо различны.\")\n",
    "else:\n",
    "    print(\"Не можем отвергнуть нулевую гипотезу: у средних значений групп среди платящих пользователей нет статистически значимых различий.\")"
   ]
  },
  {
   "cell_type": "markdown",
   "metadata": {},
   "source": [
    "Сравним конверисю в покупку в каждой группе:"
   ]
  },
  {
   "cell_type": "code",
   "execution_count": null,
   "metadata": {},
   "outputs": [],
   "source": [
    "grp_a_buy = active_users.loc[active_users.grp == 'A'].buy.sum()\n",
    "grp_a_all = active_users.loc[active_users.grp == 'A'].buy.count()\n",
    "\n",
    "conversion_a = (grp_a_buy / grp_a_all)\n",
    "\n",
    "grp_b_buy = active_users.loc[active_users.grp == 'B'].buy.sum()\n",
    "grp_b_all = active_users.loc[active_users.grp == 'B'].buy.count()\n",
    "\n",
    "conversion_b = (grp_b_buy / grp_b_all)\n",
    "\n",
    "print(f'конверсия группы А = {conversion_a:.2%}, конверсия группы В = {conversion_b:.2%}')"
   ]
  },
  {
   "cell_type": "markdown",
   "metadata": {},
   "source": [
    "Нужно проверить, есть ли статистически значимые различия между двумя пропорциями (конверсиям)  → нужен тест пропорций (Z-тест)\n",
    "\n",
    "- $H_0$: конверсии однородны, нет статистически значимых различий между пропорциями двух групп\n",
    "- $H_1$: конверсии различны"
   ]
  },
  {
   "cell_type": "code",
   "execution_count": null,
   "metadata": {},
   "outputs": [],
   "source": [
    "count = np.array([grp_a_buy, grp_b_buy])  # количество совершенных покупок\n",
    "nobs = np.array([grp_a_all, grp_b_all])   # размеры выборок\n",
    "\n",
    "z_stat, z_p_value = proportions_ztest(count, nobs)\n",
    "\n",
    "print(f\"Z-статистика: {z_stat:.4f}\")\n",
    "print(f\"p-значение: {z_p_value:.4f}\")\n",
    "\n",
    "if z_p_value < alpha:\n",
    "    print(\"Отвергаем нулевую гипотезу: конверсии различны.\")\n",
    "else:\n",
    "    print(\"Не можем отвергнуть нулевую гипотезу: конверсии однородны.\")"
   ]
  },
  {
   "cell_type": "markdown",
   "metadata": {},
   "source": [
    "Из получившихся результатов делаем вывод, что новую механику оплаты услуг стоит запускать на всех пользователей, т.к. конверсия не стат. значимо понизилась, ARPPAU стат. значимо увеличился, а ARPAU не стат. значимо увеличился. Даже несмотря на понизившуюся конверсию итоговый ARPAU увеличился."
   ]
  },
  {
   "cell_type": "markdown",
   "metadata": {},
   "source": [
    "## Задание 3. Python\n",
    "### 3.1 Задача\n",
    "\n",
    "1. Реализуйте функцию, которая будет автоматически подгружать информацию из дополнительного файла groups_add.csv (заголовки могут отличаться) и на основании дополнительных параметров пересчитывать метрики."
   ]
  },
  {
   "cell_type": "markdown",
   "metadata": {},
   "source": [
    "2. Реализуйте функцию, которая будет строить графики по получаемым метрикам."
   ]
  },
  {
   "cell_type": "code",
   "execution_count": null,
   "metadata": {},
   "outputs": [],
   "source": [
    "name_of_csv = 'Проект_2_group_add.csv'"
   ]
  },
  {
   "cell_type": "code",
   "execution_count": null,
   "metadata": {},
   "outputs": [],
   "source": [
    "rewrite_flag = 'False' ## пока что фолс, чтобы у вас случайно не перезаписался файл"
   ]
  },
  {
   "cell_type": "code",
   "execution_count": null,
   "metadata": {},
   "outputs": [],
   "source": [
    "def new_group_add(name_of_csv, groups, active_studs, checks, rewrite_flag):\n",
    "    \n",
    "    \n",
    "    new_add = pd.read_csv(name_of_csv)\n",
    "    \n",
    "    groups = pd.concat([groups, new_add], axis=0)\n",
    "    users = pd.merge(groups, active_studs, left_on='id', right_on='student_id', how='left')\n",
    "    users = users.fillna(0)\n",
    "    users['active'] = users.student_id.apply(lambda x: 1 if x != 0 else 0) \n",
    "    users = users.drop('student_id', axis=1)\n",
    "    group_a = users.loc[users.grp == 'A'].active \n",
    "    group_b = users.loc[users.grp == 'B'].active \n",
    "    \n",
    "    ks_stat, ks_p_value = ss.ks_2samp(group_a, group_b)\n",
    "    print(f'KS-статистика: {ks_stat}, p-значение: {ks_p_value}')\n",
    "    if ks_p_value < 0.05:\n",
    "        print(\"Отвергаем нулевую гипотезу: выборки имеют разные распределения.\")\n",
    "    else:\n",
    "        print(\"Не можем отвергнуть нулевую гипотезу: выборки имеют одинаковые распределения, по ним можно считать метрики\")\n",
    "        \n",
    "#         весь остальной код пишем внутри 'else' \n",
    "#         потому что если выборки имеют разные распределения мы не можем считать по ним дальше метрики\n",
    "        active_users = pd.merge(active_studs, checks, on='student_id', how='left')\n",
    "        active_users = active_users.fillna(0)\n",
    "        active_users['buy'] = active_users.rev.apply(lambda x: 1 if x != 0 else 0)\n",
    "        active_users = pd.merge(active_users, groups, left_on='student_id', right_on='id', how='left')\n",
    "        active_users = active_users.drop('id', axis=1)\n",
    "\n",
    "        a_rev = active_users.loc[active_users.grp == 'A'].rev\n",
    "        print(f'Средняя выручка контрольной группы: {a_rev.describe()[1]:.2f}')\n",
    "        b_rev = active_users.loc[active_users.grp == 'B'].rev\n",
    "        print(f'Средняя выручка целевой группы: {b_rev.describe()[1]:.2f}')\n",
    "\n",
    "        t_stat, t_p_value = ss.ttest_ind(a_rev, b_rev)\n",
    "        print(f\"T-статистика: {t_stat:.4f}\")\n",
    "        print(f\"P-значение: {t_p_value:.4f}\")\n",
    "        if t_p_value < 0.05:\n",
    "            print(\"Отвергаем нулевую гипотезу: средние значения групп статистически значимо различны.\")\n",
    "        else:\n",
    "            print(\"Не можем отвергнуть нулевую гипотезу: у средних значений групп нет статистически значимых различий.\")\n",
    "            \n",
    "        a_arppu = active_users.loc[active_users.grp == 'A'].loc[active_users.rev != 0.0].rev\n",
    "        print(f'Средняя выручка контрольной группы среди платящих пользователей: {a_arppu.describe()[1]:.2f}')\n",
    "        b_arppu = active_users.loc[active_users.grp == 'B'].loc[active_users.rev != 0.0].rev\n",
    "        print(f'Средняя выручка целевой группы среди платящих пользователей: {b_arppu.describe()[1]:.2f}')\n",
    "        \n",
    "        t_stat_p, t_p_value_p = ss.ttest_ind(a_arppu, b_arppu)\n",
    "        print(f\"T-статистика: {t_stat_p:.4f}\")\n",
    "        print(f\"P-значение: {t_p_value_p:.4f}\")\n",
    "        if t_p_value_p < alpha:\n",
    "            print(\"Отвергаем нулевую гипотезу: средние значения групп среди платящих пользователей статистически значимо различны.\")\n",
    "        else:\n",
    "            print(\"Не можем отвергнуть нулевую гипотезу: у средних значений групп среди платящих пользователей нет статистически значимых различий.\")\n",
    "\n",
    "        grp_a_buy = active_users.loc[active_users.grp == 'A'].buy.sum()\n",
    "        grp_a_all = active_users.loc[active_users.grp == 'A'].buy.count()\n",
    "        conversion_a = (grp_a_buy / grp_a_all)\n",
    "        grp_b_buy = active_users.loc[active_users.grp == 'B'].buy.sum()\n",
    "        grp_b_all = active_users.loc[active_users.grp == 'B'].buy.count()\n",
    "        conversion_b = (grp_b_buy / grp_b_all)\n",
    "        print(f'конверсия группы А = {conversion_a:.2%}, конверсия группы В = {conversion_b:.2%}')\n",
    "\n",
    "        count = np.array([grp_a_buy, grp_b_buy])  \n",
    "        nobs = np.array([grp_a_all, grp_b_all])   \n",
    "\n",
    "        z_stat, z_p_value = proportions_ztest(count, nobs)\n",
    "        print(f\"Z-статистика: {z_stat:.4f}\")\n",
    "        print(f\"p-значение: {z_p_value:.4f}\")\n",
    "        if z_p_value < 0.05:\n",
    "            print(\"Отвергаем нулевую гипотезу: конверсии различны.\")\n",
    "        else:\n",
    "            print(\"Не можем отвергнуть нулевую гипотезу: конверсии однородны.\")\n",
    "            \n",
    "        if rewrite_flag == 'True':\n",
    "            groups.to_csv('Проект_2_groups.csv')\n",
    "            print(\"CSV файл успешно перезаписан.\")\n",
    "    \n",
    "    \n",
    "        return {\n",
    "            'data': active_users\n",
    "        }"
   ]
  },
  {
   "cell_type": "code",
   "execution_count": null,
   "metadata": {},
   "outputs": [],
   "source": [
    "def graphics(data):\n",
    "    \n",
    "    plt.figure(figsize=(12, 6))\n",
    "    sns.boxplot(data=data.loc[data.rev != 0.0], x=\"grp\", y=\"rev\")\n",
    "    plt.title(\"Active users revenue among paying users\")\n",
    "    plt.show()\n",
    "    \n",
    "    plt.figure(figsize=(12, 8))\n",
    "    sns.kdeplot(data.rev.loc[data.rev != 0.0].loc[data.grp == 'A'], color='blue', bw_adjust=0.5)\n",
    "    sns.kdeplot(data.rev.loc[data.rev != 0.0].loc[data.grp == 'B'], color='orange', bw_adjust=0.5)\n",
    "    plt.title(\"Density distribution among paying users\")\n",
    "    plt.show()"
   ]
  },
  {
   "cell_type": "code",
   "execution_count": null,
   "metadata": {},
   "outputs": [],
   "source": [
    "graphics(new_group_add(name_of_csv, groups, active_studs, checks, rewrite_flag)['data'])"
   ]
  },
  {
   "cell_type": "markdown",
   "metadata": {},
   "source": [
    "## Задание 2. SQL\n",
    "### 2.1 Очень усердные ученики.\n",
    "2.1.1 Условие.\n",
    "Образовательные курсы состоят из различных уроков, каждый из которых состоит из нескольких маленьких заданий. Каждое такое маленькое задание называется \"горошиной\".\n",
    "Назовём очень усердным учеником того пользователя, который хотя бы раз за текущий месяц правильно решил 20 горошин.\n",
    "\n",
    "2.1.2 Задача.\n",
    "Необходимо написать оптимальный запрос, который даст информацию о количестве очень усердных студентов.NB! Под усердным студентом мы понимаем студента, который правильно решил 20 задач за текущий месяц."
   ]
  },
  {
   "cell_type": "markdown",
   "metadata": {},
   "source": [
    "``` sql\n",
    "select count(*) as total_hard_working_st \n",
    "  from (\n",
    "    select st_id\n",
    "      from peas\n",
    "     where date_trunc('month', timest) = date_trunc('month', now())\n",
    "     group by st_id\n",
    "    having count(*) filter (where correct) >= 20\n",
    "    ) as subquery\n",
    " \n",
    "-- date_trunc('month', now()) - если вместо этого подставить например день который есть в таблице:\n",
    "-- date_trunc('month', date '2021-10-31') - то показало бы не ноль в выводе, а т.к. таблица не обновляется в результате 0, но я решила оставить now() потому что по заданию нужно текущий месяц смотреть\n",
    "```\n",
    "\n"
   ]
  }
